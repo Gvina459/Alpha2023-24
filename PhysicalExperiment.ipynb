{
 "cells": [
  {
   "cell_type": "code",
   "execution_count": 5,
   "metadata": {},
   "outputs": [
    {
     "name": "stdout",
     "output_type": "stream",
     "text": [
      "None\n"
     ]
    }
   ],
   "source": [
    "import cv2\n",
    "import numpy as np\n",
    "import math\n",
    "from matplotlib import pyplot as plt\n",
    "import pandas as pd\n",
    "\n",
    "img = cv2.imread(r\"ActuallyTheExperiment\\2.4, 1.1.jpg\") #hitZ=y axis, hitX=x axis\n",
    "print(img)\n",
    "# img=img[950:1450, 1900:2020]\n",
    "# plt.imshow(img)\n",
    "# plt.show()\n",
    "# a=np.array([])\n",
    "# c=0\n",
    "# m=0\n",
    "\n",
    "# for i in range (len(img)):\n",
    "#     for j in range(0, 3):\n",
    "#         m+=img[i, c][j]\n",
    "#         c=c+1\n",
    "#     a=np.append(m/c, a)\n",
    "#     m=0\n",
    "#     c=0\n",
    "\n",
    "# b=np.arange(0, len(a), 1)\n",
    "\n",
    "# plt.plot(a)"
   ]
  }
 ],
 "metadata": {
  "kernelspec": {
   "display_name": "Python 3",
   "language": "python",
   "name": "python3"
  },
  "language_info": {
   "codemirror_mode": {
    "name": "ipython",
    "version": 3
   },
   "file_extension": ".py",
   "mimetype": "text/x-python",
   "name": "python",
   "nbconvert_exporter": "python",
   "pygments_lexer": "ipython3",
   "version": "3.11.2"
  }
 },
 "nbformat": 4,
 "nbformat_minor": 2
}
